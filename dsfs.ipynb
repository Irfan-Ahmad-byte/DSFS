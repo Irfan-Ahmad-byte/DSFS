{
 "cells": [
  {
   "cell_type": "markdown",
   "id": "turkish-sally",
   "metadata": {},
   "source": [
    "# Data Science from Scratch by Joel Grus- Practice by Irfan Ahmad"
   ]
  },
  {
   "cell_type": "markdown",
   "id": "designed-equation",
   "metadata": {},
   "source": [
    "VP of Networking has assigned the task to find key connectors"
   ]
  },
  {
   "cell_type": "markdown",
   "id": "subjective-denver",
   "metadata": {},
   "source": [
    "Here is the list of users"
   ]
  },
  {
   "cell_type": "code",
   "execution_count": 25,
   "id": "configured-suicide",
   "metadata": {},
   "outputs": [],
   "source": [
    "users = [\n",
    "    {'id':0, 'name':'Hero'},\n",
    "    {'id':1, 'name':'Dune'},\n",
    "    {'id':2, 'name':'Sue'},\n",
    "    {'id':3, 'name':'Chi'},\n",
    "    {'id':4, 'name':'Thor'},\n",
    "    {'id':5, 'name':'Clive'},\n",
    "    {'id':6, 'name':'Hicks'},\n",
    "    {'id':7, 'name':'Devin'},\n",
    "    {'id':8, 'name':'Kate'},\n",
    "    {'id':9, 'name':'Klien'}\n",
    "]"
   ]
  },
  {
   "cell_type": "markdown",
   "id": "polished-chamber",
   "metadata": {},
   "source": [
    "This is friendship data"
   ]
  },
  {
   "cell_type": "code",
   "execution_count": 26,
   "id": "annual-territory",
   "metadata": {},
   "outputs": [],
   "source": [
    "friendships = [(0, 1), (0, 2), (1, 2), (1, 3), (2, 3), (3, 4),\n",
    "(4, 5), (5, 6), (5, 7), (6, 8), (7, 8), (8, 9)]"
   ]
  },
  {
   "cell_type": "markdown",
   "id": "supported-balance",
   "metadata": {},
   "source": [
    "We can find, from the friendship data, the friends with id"
   ]
  },
  {
   "cell_type": "code",
   "execution_count": 27,
   "id": "welsh-council",
   "metadata": {},
   "outputs": [],
   "source": [
    "#enter a 'friend' column for each user\n",
    "for user in users:\n",
    "    user[\"friends\"] = []\n",
    "    \n",
    "#loop through each user and find its friends from the friendship data\n",
    "for i, j in friendships:\n",
    "# this works because users[i] is the user whose id is i\n",
    "    users[i][\"friends\"].append(users[j]) # add i as a friend of j\n",
    "    users[j][\"friends\"].append(users[i]) # add j as a friend of i"
   ]
  },
  {
   "cell_type": "markdown",
   "id": "careful-ground",
   "metadata": {},
   "source": [
    "let's print the users data"
   ]
  },
  {
   "cell_type": "markdown",
   "id": "clear-alert",
   "metadata": {},
   "source": [
    "Let's calculate average number of connections "
   ]
  },
  {
   "cell_type": "code",
   "execution_count": 28,
   "id": "executive-graduation",
   "metadata": {},
   "outputs": [],
   "source": [
    "def number_of_friends(user):\n",
    "    \"\"\"how many friends does _user_ have?\"\"\"\n",
    "    return len(user[\"friends\"]) # length of friend_ids list\n",
    "total_connections = sum(number_of_friends(user)\n",
    "                            for user in users) # 24"
   ]
  },
  {
   "cell_type": "code",
   "execution_count": 29,
   "id": "subsequent-vatican",
   "metadata": {},
   "outputs": [],
   "source": [
    "num_users = len(users) # length of the users list\n",
    "avg_connections = total_connections / num_users # 2.4\n"
   ]
  },
  {
   "cell_type": "markdown",
   "id": "destroyed-sensitivity",
   "metadata": {},
   "source": [
    "Let's check"
   ]
  },
  {
   "cell_type": "code",
   "execution_count": 30,
   "id": "lyric-premises",
   "metadata": {},
   "outputs": [
    {
     "data": {
      "text/plain": [
       "3"
      ]
     },
     "execution_count": 30,
     "metadata": {},
     "output_type": "execute_result"
    }
   ],
   "source": [
    "number_of_friends(users[5])"
   ]
  },
  {
   "cell_type": "code",
   "execution_count": 31,
   "id": "fancy-atlas",
   "metadata": {},
   "outputs": [
    {
     "data": {
      "text/plain": [
       "24"
      ]
     },
     "execution_count": 31,
     "metadata": {},
     "output_type": "execute_result"
    }
   ],
   "source": [
    "total_connections"
   ]
  },
  {
   "cell_type": "code",
   "execution_count": 32,
   "id": "english-internship",
   "metadata": {},
   "outputs": [
    {
     "data": {
      "text/plain": [
       "2.4"
      ]
     },
     "execution_count": 32,
     "metadata": {},
     "output_type": "execute_result"
    }
   ],
   "source": [
    "avg_connections"
   ]
  },
  {
   "cell_type": "markdown",
   "id": "killing-diameter",
   "metadata": {},
   "source": [
    "Now, let's sort from most number of friends to least"
   ]
  },
  {
   "cell_type": "code",
   "execution_count": 33,
   "id": "large-heading",
   "metadata": {},
   "outputs": [],
   "source": [
    "# create a list (user_id, number_of_friends)\n",
    "num_friends_by_id = [(user[\"id\"], number_of_friends(user))\n",
    "                        for user in users]"
   ]
  },
  {
   "cell_type": "code",
   "execution_count": 34,
   "id": "lasting-finish",
   "metadata": {},
   "outputs": [
    {
     "data": {
      "text/plain": [
       "[(1, 3),\n",
       " (2, 3),\n",
       " (3, 3),\n",
       " (5, 3),\n",
       " (8, 3),\n",
       " (0, 2),\n",
       " (4, 2),\n",
       " (6, 2),\n",
       " (7, 2),\n",
       " (9, 1)]"
      ]
     },
     "execution_count": 34,
     "metadata": {},
     "output_type": "execute_result"
    }
   ],
   "source": [
    "sorted(num_friends_by_id,key=lambda num_friends: num_friends[1], reverse=True)"
   ]
  },
  {
   "cell_type": "markdown",
   "id": "maritime-boards",
   "metadata": {},
   "source": [
    "We have identified the people who are central to the organization"
   ]
  },
  {
   "cell_type": "markdown",
   "id": "prospective-elder",
   "metadata": {},
   "source": [
    "* We can find friends of friends"
   ]
  },
  {
   "cell_type": "code",
   "execution_count": 35,
   "id": "upper-teach",
   "metadata": {},
   "outputs": [],
   "source": [
    "def friends_of_friend_ids_bad(user):\n",
    "# \"foaf\" is short for \"friend of a friend\"\n",
    "    return [foaf[\"id\"] \n",
    "            for friend in user[\"friends\"]\n",
    "            # for each of user's friends\n",
    "            for foaf in friend[\"friends\"]]\n",
    "            # get each of _their_ friends"
   ]
  },
  {
   "cell_type": "code",
   "execution_count": 36,
   "id": "verified-resort",
   "metadata": {},
   "outputs": [
    {
     "data": {
      "text/plain": [
       "[0, 2, 3, 0, 1, 3]"
      ]
     },
     "execution_count": 36,
     "metadata": {},
     "output_type": "execute_result"
    }
   ],
   "source": [
    "friends_of_friend_ids_bad(users[0])"
   ]
  },
  {
   "cell_type": "markdown",
   "id": "swiss-browser",
   "metadata": {},
   "source": [
    "But, I think it can be done this way too"
   ]
  },
  {
   "cell_type": "code",
   "execution_count": 37,
   "id": "searching-stupid",
   "metadata": {},
   "outputs": [],
   "source": [
    "def friends_of_friend_ids(user):\n",
    "# \"foaf\" is short for \"friend of a friend\"\n",
    "    return [friend[\"friends\"] \n",
    "            for friend in user[\"friends\"]]\n",
    "            # get each of _their_ friends"
   ]
  },
  {
   "cell_type": "code",
   "execution_count": 38,
   "id": "stone-tokyo",
   "metadata": {},
   "outputs": [
    {
     "name": "stdout",
     "output_type": "stream",
     "text": [
      "0\n",
      "2\n",
      "3\n"
     ]
    }
   ],
   "source": [
    "for friend in users[1][\"friends\"]:\n",
    "    print (friend[\"id\"])"
   ]
  },
  {
   "cell_type": "markdown",
   "id": "piano-cache",
   "metadata": {},
   "source": [
    "* Now, we produce a count of mutual friends"
   ]
  },
  {
   "cell_type": "code",
   "execution_count": 39,
   "id": "lightweight-hierarchy",
   "metadata": {},
   "outputs": [],
   "source": [
    "from collections import Counter"
   ]
  },
  {
   "cell_type": "code",
   "execution_count": 40,
   "id": "nasty-immigration",
   "metadata": {},
   "outputs": [],
   "source": [
    "# See if the two users are same\n",
    "def not_same(user1, user2):\n",
    "    return user1[\"id\"] != user2['id']"
   ]
  },
  {
   "cell_type": "code",
   "execution_count": 41,
   "id": "environmental-badge",
   "metadata": {},
   "outputs": [
    {
     "data": {
      "text/plain": [
       "False"
      ]
     },
     "execution_count": 41,
     "metadata": {},
     "output_type": "execute_result"
    }
   ],
   "source": [
    "not_same(users[1], users[1])"
   ]
  },
  {
   "cell_type": "code",
   "execution_count": 42,
   "id": "extraordinary-engineer",
   "metadata": {},
   "outputs": [],
   "source": [
    "# see if users are friends, return True if not friends and False if Friends\n",
    "def not_friends(user, other_user):\n",
    "    \"\"\"other_user is not a friend if he's not in user[\"friends\"];\n",
    "    that is, if he's not_the_same as all the people in user[\"friends\"]\"\"\"\n",
    "    return all(not_same(friend, other_user)\n",
    "                for friend in user[\"friends\"])"
   ]
  },
  {
   "cell_type": "code",
   "execution_count": 43,
   "id": "consecutive-reform",
   "metadata": {},
   "outputs": [
    {
     "data": {
      "text/plain": [
       "True"
      ]
     },
     "execution_count": 43,
     "metadata": {},
     "output_type": "execute_result"
    }
   ],
   "source": [
    "not_friends(users[1], users[5])"
   ]
  },
  {
   "cell_type": "code",
   "execution_count": 46,
   "id": "statewide-dating",
   "metadata": {},
   "outputs": [],
   "source": [
    "def friends_of_friend_ids(user):\n",
    "    return Counter(foaf[\"id\"]\n",
    "                    for friend in user[\"friends\"]\n",
    "                    for foaf in friend[\"friends\"]\n",
    "                    if not_same(user, foaf)\n",
    "                    and not_friends(user, foaf))"
   ]
  },
  {
   "cell_type": "code",
   "execution_count": 47,
   "id": "spiritual-freeze",
   "metadata": {},
   "outputs": [
    {
     "data": {
      "text/plain": [
       "Counter({0: 2, 5: 1})"
      ]
     },
     "execution_count": 47,
     "metadata": {},
     "output_type": "execute_result"
    }
   ],
   "source": [
    "friends_of_friend_ids(users[3])"
   ]
  },
  {
   "cell_type": "code",
   "execution_count": 48,
   "id": "religious-hindu",
   "metadata": {},
   "outputs": [],
   "source": [
    "interests = [\n",
    "    (0, \"Hadoop\"), (0, \"Big Data\"), (0, \"HBase\"), (0, \"Java\"),\n",
    "    (0, \"Spark\"), (0, \"Storm\"), (0, \"Cassandra\"),\n",
    "    (1, \"NoSQL\"), (1, \"MongoDB\"), (1, \"Cassandra\"), (1, \"HBase\"),\n",
    "    (1, \"Postgres\"), (2, \"Python\"), (2, \"scikit-learn\"), (2, \"scipy\"),\n",
    "    (2, \"numpy\"), (2, \"statsmodels\"), (2, \"pandas\"), (3, \"R\"), (3, \"Python\"),\n",
    "    (3, \"statistics\"), (3, \"regression\"), (3, \"probability\"),\n",
    "    (4, \"machine learning\"), (4, \"regression\"), (4, \"decision trees\"),\n",
    "    (4, \"libsvm\"), (5, \"Python\"), (5, \"R\"), (5, \"Java\"), (5, \"C++\"),\n",
    "    (5, \"Haskell\"), (5, \"programming languages\"), (6, \"statistics\"),\n",
    "    (6, \"probability\"), (6, \"mathematics\"), (6, \"theory\"),\n",
    "    (7, \"machine learning\"), (7, \"scikit-learn\"), (7, \"Mahout\"),\n",
    "    (7, \"neural networks\"), (8, \"neural networks\"), (8, \"deep learning\"),\n",
    "    (8, \"Big Data\"), (8, \"artificial intelligence\"), (9, \"Hadoop\"),\n",
    "    (9, \"Java\"), (9, \"MapReduce\"), (9, \"Big Data\")\n",
    "]"
   ]
  },
  {
   "cell_type": "code",
   "execution_count": 49,
   "id": "structured-absence",
   "metadata": {},
   "outputs": [],
   "source": [
    "# find users with a certain interest\n",
    "def data_scientists_who_like(target_interest):\n",
    "    return [user_id\n",
    "            for user_id, user_interest in interests\n",
    "            if user_interest == target_interest]"
   ]
  },
  {
   "cell_type": "code",
   "execution_count": 50,
   "id": "extra-syndrome",
   "metadata": {},
   "outputs": [
    {
     "data": {
      "text/plain": [
       "[0, 8, 9]"
      ]
     },
     "execution_count": 50,
     "metadata": {},
     "output_type": "execute_result"
    }
   ],
   "source": [
    "data_scientists_who_like('Big Data')"
   ]
  },
  {
   "cell_type": "code",
   "execution_count": 51,
   "id": "pleased-tennessee",
   "metadata": {},
   "outputs": [],
   "source": [
    "from collections import defaultdict"
   ]
  },
  {
   "cell_type": "code",
   "execution_count": 52,
   "id": "strategic-story",
   "metadata": {},
   "outputs": [],
   "source": [
    "user_ids_by_interest = defaultdict(list)\n",
    "for user_id, interest in interests:\n",
    "    user_ids_by_interest[interest].append(user_id)"
   ]
  },
  {
   "cell_type": "code",
   "execution_count": 54,
   "id": "greatest-deficit",
   "metadata": {},
   "outputs": [],
   "source": [
    "interests_by_user_id = defaultdict(list)\n",
    "for user_id, interest in interests:\n",
    "    interests_by_user_id[user_id].append(interest)"
   ]
  },
  {
   "cell_type": "code",
   "execution_count": 55,
   "id": "laughing-australian",
   "metadata": {},
   "outputs": [],
   "source": [
    "# most common interests with a user\n",
    "def most_common_interests_with(user):\n",
    "    return Counter(interested_user_id\n",
    "        for interest in interests_by_user_id[user[\"id\"]]\n",
    "        for interested_user_id in user_ids_by_interest[interest]\n",
    "        if interested_user_id != user[\"id\"])"
   ]
  },
  {
   "cell_type": "code",
   "execution_count": 56,
   "id": "taken-roller",
   "metadata": {},
   "outputs": [
    {
     "data": {
      "text/plain": [
       "Counter({3: 1, 5: 1, 7: 1})"
      ]
     },
     "execution_count": 56,
     "metadata": {},
     "output_type": "execute_result"
    }
   ],
   "source": [
    "most_common_interests_with(users[2])"
   ]
  },
  {
   "cell_type": "code",
   "execution_count": null,
   "id": "acting-vulnerability",
   "metadata": {},
   "outputs": [],
   "source": []
  }
 ],
 "metadata": {
  "kernelspec": {
   "display_name": "Python 3",
   "language": "python",
   "name": "python3"
  },
  "language_info": {
   "codemirror_mode": {
    "name": "ipython",
    "version": 3
   },
   "file_extension": ".py",
   "mimetype": "text/x-python",
   "name": "python",
   "nbconvert_exporter": "python",
   "pygments_lexer": "ipython3",
   "version": "3.8.5"
  }
 },
 "nbformat": 4,
 "nbformat_minor": 5
}
